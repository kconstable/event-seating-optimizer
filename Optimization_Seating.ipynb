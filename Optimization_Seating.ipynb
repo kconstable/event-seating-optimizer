{
 "cells": [
  {
   "cell_type": "code",
   "execution_count": 1,
   "metadata": {},
   "outputs": [],
   "source": [
    "import pulp\n",
    "import pandas as pd"
   ]
  },
  {
   "cell_type": "markdown",
   "metadata": {},
   "source": [
    "#### Function: calcTableCombinations\n",
    "This function takes a list of guests and the maximum that can sit at a table and returns a list of all possible table seating combinations.  It will print out the topN and bottomN seating arrangements for verification"
   ]
  },
  {
   "cell_type": "code",
   "execution_count": 2,
   "metadata": {},
   "outputs": [],
   "source": [
    "\n",
    "def calcTableCombinations(guests,max_table_size,topN,bottomN):\n",
    "    \n",
    "    \n",
    "    # allcombinations - returns an object which contains all possible combinations\n",
    "    #      guests- a list of guests\n",
    "    #      max_table_size - the maximum nubmer of people per table\n",
    "    #      this will return all combinations of people from 1 person per table up to 4 per table\n",
    "    possible_tables = [tuple(c) for c in pulp.allcombinations(guests,max_table_size)]\n",
    "    \n",
    "    #total number of combinations\n",
    "    total_combinations = len(possible_tables)\n",
    "    \n",
    "    if topN !=-1 and bottomN !=-1:\n",
    "        # print out some of the table combinations\n",
    "        print(\"First {} table combinations - out of {} possible\".format(topN,total_combinations))\n",
    "        for i in range(0,20):\n",
    "            print(possible_tables[i])\n",
    "\n",
    "        print(\"\\nLast {} table combinations - out of {} possible\".format(bottomN,total_combinations))\n",
    "        for i in range(total_combinations-15,total_combinations):\n",
    "            print(possible_tables[i])\n",
    "        \n",
    "    return possible_tables\n"
   ]
  },
  {
   "cell_type": "markdown",
   "metadata": {},
   "source": [
    "#### Function: happinessScores\n",
    "The happinessScores() function takes the same table input as the arbitrary happiness function which is the current seating arrangement. The scores table contains the personA-personB scores.  \n",
    "\n",
    "+ if a table only has one person, it just looks up the score for that person with themselves\n",
    "+ if a table has more than one person, all possible combinations of people at the table are determined and the score for each pair is looked up\n",
    "+ the total score for each table is calculated and returned by the function"
   ]
  },
  {
   "cell_type": "code",
   "execution_count": 3,
   "metadata": {},
   "outputs": [],
   "source": [
    "def happinessScores(table,scores_table,printScores=True):\n",
    "\n",
    "    # print progress\n",
    "    if printScores:\n",
    "        print(\"\\nTable:{}\".format(table))\n",
    "    \n",
    "    # initialize\n",
    "    score=0\n",
    "    people=len(table)\n",
    "    \n",
    "    # for tables with more than 1 person\n",
    "    if people>1:\n",
    "        \n",
    "        #get all combinations of pairs of people at each table\n",
    "        combos = calcTableCombinations(table,2,-1,-1)\n",
    "        \n",
    "        # for each pair, calculate the score\n",
    "        for pair in combos:\n",
    "            # all possible combos will include single people seated with themselves. ignore those\n",
    "            if len(pair)>1:\n",
    "                p=list(pair)\n",
    "                \n",
    "                # lookup the score of the pair\n",
    "                s=int(scores_table[(scores_table.Person1 ==p[0]) & (scores_table.Person2 == p[-1])]['Score'])\n",
    "                \n",
    "                if printScores:\n",
    "                    print(\"Score:{:5}  Pair:{}\".format(s,p))\n",
    "\n",
    "                #increment the table score\n",
    "                score+=s\n",
    "    #only one person at the table, look up their score            \n",
    "    else: \n",
    "        score = int(scores_table[(scores_table.Person1 ==table[0]) & (scores_table.Person2 == table[-1])]['Score'])\n",
    "        \n",
    "    if printScores:\n",
    "        print(\"Table Score:{}\".format(score))\n",
    "    return score\n",
    "     "
   ]
  },
  {
   "cell_type": "markdown",
   "metadata": {},
   "source": [
    "#### Function: calcOptimalSeatingPlan\n",
    "This function outputs the optimized seating plan.  There are several parameters required:\n",
    "+ guests - a list  of guest names\n",
    "+ max_tables - the total number of tables available\n",
    "+ max_guests_per_table - number of people can sit at each table\n",
    "+ happiness_function - the options are 'example'- which uses the arbitrary happiness function, 'scores' which uses the happinessScores function or 'rand' which uses the happinessRand function\n",
    "+ scores - this is an optional parameter. It is a table of scores of seating arrangements. It is used for the happinessScores fuction is used. Discussed in detail below\n",
    "+ printTables - determines whether the tables and scores are printed as the program executes\n",
    "\n",
    "There are several steps performed by this function:\n",
    "+ creates the pulp problem\n",
    "+ calculates all possible table combinations and prints out the top 10 and bottom 10\n",
    "+ creates a binary variable which determines whether a table is used or not (1 or 0)\n",
    "+ creates the objective function based on which happiness function is used\n",
    "+ adds constraints for the maximum number of tables and ensures every person is seated at one and only 1 table\n",
    "+ solves the optimization problems\n",
    "+ prints out the optimal seating arrangements"
   ]
  },
  {
   "cell_type": "code",
   "execution_count": 4,
   "metadata": {},
   "outputs": [],
   "source": [
    "def calcOptimalSeatingPlan(guests\n",
    "                           ,table_capacity\n",
    "                           ,scores                    \n",
    "                           ,printTables=False):\n",
    "    \n",
    "    # max number of tables\n",
    "    max_tables=sum([t[1] for t in table_capacity])\n",
    "    \n",
    "    # max number of guests per table\n",
    "    max_guests_per_table =max([c[0] for c in table_capacity])\n",
    "    \n",
    "    \n",
    "    # create the linear problem\n",
    "    seating_model = pulp.LpProblem(\"wedding_seating\",pulp.LpMaximize)\n",
    " \n",
    "    \n",
    "    # calculate the number of table combinations\n",
    "    if printTables:\n",
    "        possible_tables =calcTableCombinations(guests,max_guests_per_table,10,10)\n",
    "    else:\n",
    "        possible_tables =calcTableCombinations(guests,max_guests_per_table,-1,-1)\n",
    "    \n",
    "    # binary variable used to flag if a table is used or not (0 or 1)\n",
    "    # applied to all table combinations of people (not the max_tables)\n",
    "    table_used = pulp.LpVariable.dicts('table'\n",
    "                                       ,possible_tables\n",
    "                                       ,lowBound=0\n",
    "                                       ,upBound=1\n",
    "                                       ,cat = pulp.LpInteger)\n",
    "    \n",
    "    \n",
    "    # Objective Function- maximizes the table score\n",
    "    seating_model += sum([happinessScores(table,scores,printTables)* table_used[table] for table in possible_tables])\n",
    "\n",
    "    \n",
    "    #Contraints\n",
    "    # the total number of tables selected must be <= the max_tables\n",
    "    seating_model += sum([table_used[table] for table in possible_tables])<= max_tables,\"Max number of tables\"\n",
    "    \n",
    "   # for k,v in tables_dict.items():\n",
    "   #     seating_model += sum([table_used[table] for table in possible_tables if len(table)==int(k)])<=int(v),\"Max {} person tables\".format(k)\n",
    "   \n",
    "\n",
    "    #make sure the table capacity list is sorted by table size\n",
    "    table_capacity = sorted(table_capacity, key = lambda x: x[0],reverse=True)\n",
    "\n",
    "        \n",
    "    for t in range(len(table_capacity)):\n",
    "        capacity,number = table_capacity[t]\n",
    "    \n",
    "        if t<len(table_capacity)-1:\n",
    "            capacity_from = table_capacity[t][0]\n",
    "            capacity_to = table_capacity[t+1][0]+1\n",
    "        else:\n",
    "            capacity_from = table_capacity[t][0]\n",
    "            capacity_to = 1\n",
    "        #print(t,table_capacity[t],capacity_from,capacity_to,number)\n",
    "        seating_model += sum([table_used[table] for table in possible_tables \n",
    "                              if len(table)<=capacity_from\n",
    "                              and len(table)>=capacity_to ])<=number,\"Max {} person tables ({} to {} people)\".format(capacity_from,capacity_to,capacity_from)\n",
    "   \n",
    "\n",
    "\n",
    "    #every guest must have a seat,and only one seat\n",
    "    for guest in guests:\n",
    "        seating_model+=sum([table_used[table] for table in possible_tables \n",
    "                       if guest in table])==1,\"{} must have a seat\".format(guest)\n",
    "\n",
    "    # Solve the problem    \n",
    "    seating_model.solve()\n",
    "    \n",
    "    # Output the results\n",
    "    print(\"\\nSeating Plan: Solve Status is {}\".format(pulp.LpStatus[seating_model.status]))\n",
    "    t=1\n",
    "    for table in possible_tables:\n",
    "        if table_used[table].value()==1.0:\n",
    "            print(\"Table Number:{} \\t {}\".format(t,table))  \n",
    "            t+=1\n",
    "    return seating_model"
   ]
  },
  {
   "cell_type": "markdown",
   "metadata": {},
   "source": [
    "### Calc people combinations \n",
    "calc the possible people combinations and export to csv"
   ]
  },
  {
   "cell_type": "code",
   "execution_count": 8,
   "metadata": {},
   "outputs": [
    {
     "name": "stdout",
     "output_type": "stream",
     "text": [
      "First 10 table combinations - out of 246 possible\n",
      "('Ken',)\n",
      "('Heather',)\n",
      "('Doug',)\n",
      "('Jen',)\n",
      "('Mark',)\n",
      "('Becky',)\n",
      "('Andrew',)\n",
      "('Ruby',)\n",
      "('Ken', 'Heather')\n",
      "('Ken', 'Doug')\n",
      "('Ken', 'Jen')\n",
      "('Ken', 'Mark')\n",
      "('Ken', 'Becky')\n",
      "('Ken', 'Andrew')\n",
      "('Ken', 'Ruby')\n",
      "('Heather', 'Doug')\n",
      "('Heather', 'Jen')\n",
      "('Heather', 'Mark')\n",
      "('Heather', 'Becky')\n",
      "('Heather', 'Andrew')\n",
      "\n",
      "Last 10 table combinations - out of 246 possible\n",
      "('Ken', 'Heather', 'Jen', 'Becky', 'Andrew', 'Ruby')\n",
      "('Ken', 'Heather', 'Mark', 'Becky', 'Andrew', 'Ruby')\n",
      "('Ken', 'Doug', 'Jen', 'Mark', 'Becky', 'Andrew')\n",
      "('Ken', 'Doug', 'Jen', 'Mark', 'Becky', 'Ruby')\n",
      "('Ken', 'Doug', 'Jen', 'Mark', 'Andrew', 'Ruby')\n",
      "('Ken', 'Doug', 'Jen', 'Becky', 'Andrew', 'Ruby')\n",
      "('Ken', 'Doug', 'Mark', 'Becky', 'Andrew', 'Ruby')\n",
      "('Ken', 'Jen', 'Mark', 'Becky', 'Andrew', 'Ruby')\n",
      "('Heather', 'Doug', 'Jen', 'Mark', 'Becky', 'Andrew')\n",
      "('Heather', 'Doug', 'Jen', 'Mark', 'Becky', 'Ruby')\n",
      "('Heather', 'Doug', 'Jen', 'Mark', 'Andrew', 'Ruby')\n",
      "('Heather', 'Doug', 'Jen', 'Becky', 'Andrew', 'Ruby')\n",
      "('Heather', 'Doug', 'Mark', 'Becky', 'Andrew', 'Ruby')\n",
      "('Heather', 'Jen', 'Mark', 'Becky', 'Andrew', 'Ruby')\n",
      "('Doug', 'Jen', 'Mark', 'Becky', 'Andrew', 'Ruby')\n"
     ]
    }
   ],
   "source": [
    "\n",
    "guests = \"Ken Heather Doug Jen Mark Becky Andrew Ruby\".split()\n",
    "table_capacity = [(6,2),(4,4),(2,2)]\n",
    "#table_capacity = [(10,1),(6,2),(4,4),(2,2)]\n",
    "#table_capacity = [(10,1),(6,2),(4,4),(2,2)]\n",
    "\n",
    "\n",
    "max_guests_per_table = max([c[0] for c in table_capacity])\n",
    "\n",
    "\n",
    "# get all possible pairs of guests, convert to a dataframe and export to csv\n",
    "real_guest_combos=calcTableCombinations(guests,max_guests_per_table,10,10)\n",
    "#real_guest_combos=pd.DataFrame(real_guest_combos)\n",
    "#real_guest_combos.to_csv(r'real_guest_combos.csv', index = False)\n"
   ]
  },
  {
   "cell_type": "markdown",
   "metadata": {},
   "source": [
    "#### Determine guest scores\n",
    "In this simple example we have four couples and want to arrange them at two tables. The following scoring was used:\n",
    "+ if two people are a couple, score +200\n",
    "+ if two people are friends, score +50\n",
    "+ if two people don't know each other, score -50\n",
    "+ single people are given a score of -100\n",
    "\n",
    "The ideal result should be the following:\n",
    "+ Table 1: Ken & Heather (a couple) and Doug & Jen (a couple), both couples are friends\n",
    "+ Table 2: Mark & Becky (a couple) and Andrew & Rub (a couple),both couples are friends"
   ]
  },
  {
   "cell_type": "code",
   "execution_count": 9,
   "metadata": {},
   "outputs": [],
   "source": [
    "# import the scores\n",
    "scores = pd.read_csv(\"SeatingScores.csv\",usecols = ['Person1','Person2','Score'])"
   ]
  },
  {
   "cell_type": "code",
   "execution_count": 13,
   "metadata": {},
   "outputs": [
    {
     "name": "stdout",
     "output_type": "stream",
     "text": [
      "\n",
      "Seating Plan: Solve Status is Optimal\n",
      "Table Number:1 \t ('Ken', 'Heather')\n",
      "Table Number:2 \t ('Doug', 'Jen')\n",
      "Table Number:3 \t ('Mark', 'Becky', 'Andrew', 'Ruby')\n"
     ]
    }
   ],
   "source": [
    "table_capacity = [(4,1),(3,2)]\n",
    "model=calcOptimalSeatingPlan(guests,table_capacity,scores,printTables=False)"
   ]
  },
  {
   "cell_type": "markdown",
   "metadata": {},
   "source": [
    "### Real Test"
   ]
  },
  {
   "cell_type": "code",
   "execution_count": 14,
   "metadata": {},
   "outputs": [],
   "source": [
    "lunch=pd.read_csv(\"lunch.csv\")\n",
    "lunch=lunch['Guest'].values.tolist()\n",
    "\n",
    "# get all possible pairs of guests, convert to a dataframe and export to csv\n",
    "#lunch_combos=calcTableCombinations(lunch,2,-1,-1)\n",
    "#lunch_combos=pd.DataFrame(lunch_combos)\n",
    "#lunch_combos.to_csv(r'lunch_combos.csv', index = False)\n",
    "\n",
    "scores = pd.read_csv(\"lunch_scores.csv\")"
   ]
  },
  {
   "cell_type": "code",
   "execution_count": 18,
   "metadata": {},
   "outputs": [
    {
     "name": "stdout",
     "output_type": "stream",
     "text": [
      "\n",
      "Seating Plan: Solve Status is Optimal\n",
      "Table Number:1 \t ('Tony', 'Lia')\n",
      "Table Number:2 \t ('Aunt Donna', 'Evelyn')\n",
      "Table Number:3 \t ('Mark', 'Becky')\n",
      "Table Number:4 \t ('Heather S', 'Deric')\n",
      "Table Number:5 \t ('Ken', 'Heather', 'Mary', 'Terry')\n",
      "Table Number:6 \t ('Lora', 'Ralph', 'Lorielle', 'Uncle Jim')\n",
      "Table Number:7 \t ('Andrew', 'Ruby', 'David', 'Erin')\n",
      "Table Number:8 \t ('Uncle Danny', 'Aunt Winnie', 'Uncle Edgar', 'Aunt Beth')\n",
      "Table Number:9 \t ('Chris', 'Michelle', 'Christine', 'Steve')\n",
      "Table Number:10 \t ('Dan', 'Dave', 'Doug', 'Jen')\n"
     ]
    }
   ],
   "source": [
    "table_capacity = [(4,6),(2,5)]\n",
    "model=calcOptimalSeatingPlan(lunch,table_capacity,scores,printTables=False)"
   ]
  },
  {
   "cell_type": "code",
   "execution_count": null,
   "metadata": {},
   "outputs": [],
   "source": []
  }
 ],
 "metadata": {
  "kernelspec": {
   "display_name": "Python 3",
   "language": "python",
   "name": "python3"
  },
  "language_info": {
   "codemirror_mode": {
    "name": "ipython",
    "version": 3
   },
   "file_extension": ".py",
   "mimetype": "text/x-python",
   "name": "python",
   "nbconvert_exporter": "python",
   "pygments_lexer": "ipython3",
   "version": "3.7.3"
  }
 },
 "nbformat": 4,
 "nbformat_minor": 2
}
